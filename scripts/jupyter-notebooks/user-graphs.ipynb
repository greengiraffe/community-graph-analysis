{
 "cells": [
  {
   "cell_type": "code",
   "execution_count": null,
   "metadata": {},
   "outputs": [],
   "source": [
    "import os\n",
    "from dotenv import load_dotenv\n",
    "import pandas as pd\n",
    "import sqlalchemy as sqla\n",
    "import matplotlib.pyplot as plt\n",
    "import seaborn as sns\n",
    "import numpy as np\n",
    "\n",
    "# Graph settings\n",
    "sns.set(context='notebook',style=\"whitegrid\")\n",
    "plt.rc(\"figure\", figsize=(16,9)) # global figsize\n",
    "\n",
    "# Load DB URI secret .env\n",
    "load_dotenv()\n",
    "DB_URI = os.getenv(\"DB_URI\")\n",
    "\n",
    "engine = sqla.create_engine(DB_URI)\n",
    "CONNECTION = engine.connect()\n",
    "metadata = sqla.MetaData(bind=CONNECTION)"
   ]
  },
  {
   "cell_type": "code",
   "execution_count": null,
   "metadata": {},
   "outputs": [],
   "source": [
    "users = pd.read_sql('SELECT * FROM user_stats', CONNECTION)\n",
    "# users.to_csv('users.csv')\n",
    "# users = pd.read_csv('users.csv').drop(columns=0)\n",
    "users"
   ]
  },
  {
   "cell_type": "code",
   "execution_count": null,
   "metadata": {},
   "outputs": [],
   "source": [
    "g = sns.scatterplot(data=users, x=\"count_total\", y=\"count_replies_to_others\")\n",
    "g.set_xscale(\"log\")"
   ]
  },
  {
   "cell_type": "code",
   "execution_count": null,
   "metadata": {},
   "outputs": [],
   "source": [
    "users.describe(percentiles=np.arange(0.0, 0.99, 0.05))"
   ]
  },
  {
   "cell_type": "code",
   "execution_count": null,
   "metadata": {},
   "outputs": [],
   "source": [
    "sns.jointplot(data=users, x=\"count_total\", y=\"count_replies_to_others\", xlim=[3,2000], ylim=[1, 300])"
   ]
  },
  {
   "cell_type": "code",
   "execution_count": null,
   "metadata": {},
   "outputs": [],
   "source": [
    "ax = sns.scatterplot(data=users, x=\"count_total\", y=\"count_replies_to_others\")\n",
    "ax.set_xscale(\"log\")\n",
    "ax.set_xlim((1,2000))\n",
    "ax.set_ylim((0,1000))"
   ]
  },
  {
   "cell_type": "code",
   "execution_count": null,
   "metadata": {},
   "outputs": [],
   "source": [
    "quantiles = np.arange(0.0,1.000001,0.01)\n",
    "percentiles = users.quantile(q=quantiles).drop(columns=['user_id', 'top_department_count'])\n",
    "percentiles"
   ]
  },
  {
   "cell_type": "code",
   "execution_count": null,
   "metadata": {},
   "outputs": [],
   "source": [
    "from matplotlib.ticker import ScalarFormatter\n",
    "\n",
    "plt.figure(figsize=(16, 9))\n",
    "\n",
    "ax = sns.lineplot(data=percentiles.drop(columns=['count_answers_received_self', 'count_top_level']))\n",
    "ax.set_xticks(np.arange(0.0,1.05,0.05))\n",
    "ax.set_yscale(\"log\")\n",
    "ax.set_yticks([0, 1, 2,3,4, 5, 10, 50, 100, 1000])\n",
    "ax.set_ylim(0,1000)\n",
    "ax.set_xlim(0.3, 1.0)\n",
    "ax.axvline(color='g', x=percentiles.query('count_replies_to_others >= 10 <= count_answers_received').index[0])\n",
    "ax.yaxis.set_major_formatter(ScalarFormatter())"
   ]
  },
  {
   "cell_type": "code",
   "execution_count": null,
   "metadata": {},
   "outputs": [],
   "source": [
    "ax = percentiles.plot()\n",
    "ax.set_xticks(np.arange(0.0,1.05,0.05))\n",
    "ax.set_yscale(\"log\")\n",
    "ax.set_ylim(1, 1000)\n",
    "ax.yaxis.set_major_formatter(ScalarFormatter())"
   ]
  },
  {
   "cell_type": "code",
   "execution_count": null,
   "metadata": {},
   "outputs": [],
   "source": [
    "ax = sns.lineplot(data=percentiles, x=quantiles, y=\"count_answers_received\")\n",
    "#ax.set_yscale(\"log\")"
   ]
  },
  {
   "cell_type": "code",
   "execution_count": null,
   "metadata": {},
   "outputs": [],
   "source": [
    "sns.histplot(data=users, x=\"count_total\", stat=\"count\", binrange=(10,100), binwidth=10)"
   ]
  }
 ],
 "metadata": {
  "kernelspec": {
   "display_name": "Python 3",
   "language": "python",
   "name": "python3"
  },
  "language_info": {
   "codemirror_mode": {
    "name": "ipython",
    "version": 3
   },
   "file_extension": ".py",
   "mimetype": "text/x-python",
   "name": "python",
   "nbconvert_exporter": "python",
   "pygments_lexer": "ipython3",
   "version": "3.9.1"
  }
 },
 "nbformat": 4,
 "nbformat_minor": 4
}
