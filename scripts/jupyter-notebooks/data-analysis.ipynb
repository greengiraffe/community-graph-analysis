{
 "cells": [
  {
   "cell_type": "markdown",
   "metadata": {},
   "source": [
    "# ZON Comments SQL Analysis\n",
    "\n",
    "## Setup the DB"
   ]
  },
  {
   "cell_type": "code",
   "execution_count": null,
   "metadata": {},
   "outputs": [],
   "source": [
    "import os\n",
    "from dotenv import load_dotenv\n",
    "import pandas as pd\n",
    "import sqlalchemy as sqla\n",
    "import matplotlib\n",
    "import matplotlib.pyplot as plt\n",
    "import seaborn as sns\n",
    "import numpy as np\n",
    "from datetime import date\n",
    "from IPython.display import set_matplotlib_formats\n",
    "from plotting import get_plot_size\n",
    "\n",
    "#set_matplotlib_formats('png', 'pdf')\n",
    "\n",
    "# Graph settings\n",
    "sns.set(context='paper',style=\"whitegrid\", palette='muted')\n",
    "#plt.rc(\"figure\", figsize=(10,6)) # global figsize\n",
    "\n",
    "# Enable Graph exporting to Latex\n",
    "plt.rcParams.update({\n",
    "    \"pgf.texsystem\": \"pdflatex\",\n",
    "    \"font.family\": \"serif\",  # use serif/main font for text elements\n",
    "    \"pgf.rcfonts\": False,     # don't setup fonts from rc parameters\n",
    "    \"pgf.preamble\": \"\"\"\n",
    "        \\\\usepackage[utf8x]{inputenc}\n",
    "        \\\\usepackage[T1]{fontenc}\n",
    "        \\\\usepackage[detect-all]{siunitx}\n",
    "    \"\"\"\n",
    "})\n",
    "\n",
    "# Load DB URI from .env file\n",
    "load_dotenv()\n",
    "DB_URI = os.getenv(\"DB_URI\")\n",
    "\n",
    "engine = sqla.create_engine(DB_URI)\n",
    "CONNECTION = engine.connect()\n",
    "\n",
    "TABLE = 'zon_comments_cleaned'"
   ]
  },
  {
   "cell_type": "markdown",
   "metadata": {},
   "source": [
    "# Foundational Analysis\n",
    "\n",
    "#### Available columns"
   ]
  },
  {
   "cell_type": "code",
   "execution_count": null,
   "metadata": {},
   "outputs": [],
   "source": [
    "pd.read_sql(f'SELECT * FROM {TABLE} LIMIT 1', CONNECTION).columns"
   ]
  },
  {
   "cell_type": "markdown",
   "metadata": {},
   "source": [
    "#### Total # of comments"
   ]
  },
  {
   "cell_type": "code",
   "execution_count": null,
   "metadata": {},
   "outputs": [],
   "source": [
    "total_no_comments = pd.read_sql(f'SELECT count(comment_id) FROM {TABLE}', CONNECTION)\n",
    "total_no_comments"
   ]
  },
  {
   "cell_type": "markdown",
   "metadata": {},
   "source": [
    "### Total # of users"
   ]
  },
  {
   "cell_type": "code",
   "execution_count": null,
   "metadata": {},
   "outputs": [],
   "source": [
    "pd.read_sql(f'SELECT COUNT(DISTINCT user_id) FROM {TABLE}', CONNECTION)"
   ]
  },
  {
   "cell_type": "markdown",
   "metadata": {},
   "source": [
    "#### Total # of articles"
   ]
  },
  {
   "cell_type": "code",
   "execution_count": null,
   "metadata": {},
   "outputs": [],
   "source": [
    "pd.read_sql(f'SELECT COUNT(DISTINCT article_id) FROM {TABLE}', CONNECTION)"
   ]
  },
  {
   "cell_type": "markdown",
   "metadata": {},
   "source": [
    "#### Time range (first and last comment)"
   ]
  },
  {
   "cell_type": "code",
   "execution_count": null,
   "metadata": {},
   "outputs": [],
   "source": [
    "pd.read_sql(f'SELECT min(created), max(created) FROM {TABLE}', CONNECTION)"
   ]
  },
  {
   "cell_type": "markdown",
   "metadata": {},
   "source": [
    "Show the first and last comment"
   ]
  },
  {
   "cell_type": "code",
   "execution_count": null,
   "metadata": {},
   "outputs": [],
   "source": [
    "pd.read_sql(f\"\"\"\n",
    "SELECT *\n",
    "FROM {TABLE}\n",
    "WHERE created =\n",
    "        (SELECT min(created)\n",
    "         FROM {TABLE})\n",
    "UNION ALL\n",
    "SELECT *\n",
    "FROM {TABLE}\n",
    "WHERE created =\n",
    "        (SELECT max(created)\n",
    "         FROM {TABLE})\n",
    "\"\"\", CONNECTION)"
   ]
  },
  {
   "cell_type": "markdown",
   "metadata": {},
   "source": [
    "### Comment statistics\n",
    "\n",
    "#### Average comment length"
   ]
  },
  {
   "cell_type": "code",
   "execution_count": null,
   "metadata": {},
   "outputs": [],
   "source": [
    "pd.read_sql(f'SELECT avg(char_length(raw_content)) from {TABLE}', CONNECTION)"
   ]
  },
  {
   "cell_type": "raw",
   "metadata": {},
   "source": [
    "#### Median comment length"
   ]
  },
  {
   "cell_type": "code",
   "execution_count": null,
   "metadata": {},
   "outputs": [],
   "source": [
    "pd.read_sql(f\"\"\"\n",
    "SELECT percentile_disc(0.5)\n",
    "WITHIN GROUP (ORDER BY char_length({TABLE}.raw_content))\n",
    "FROM {TABLE}\"\"\", CONNECTION)"
   ]
  },
  {
   "cell_type": "markdown",
   "metadata": {},
   "source": [
    "#### Average number of words per comment"
   ]
  },
  {
   "cell_type": "code",
   "execution_count": null,
   "metadata": {},
   "outputs": [],
   "source": [
    "pd.read_sql(f\"\"\"\n",
    "SELECT avg(array_length(regexp_split_to_array(raw_content, '\\s'), 1))\n",
    "FROM {TABLE}\"\"\", CONNECTION)"
   ]
  },
  {
   "cell_type": "markdown",
   "metadata": {},
   "source": [
    "#### Median number of words per comment"
   ]
  },
  {
   "cell_type": "code",
   "execution_count": null,
   "metadata": {},
   "outputs": [],
   "source": [
    "pd.read_sql(f\"\"\"\n",
    "SELECT percentile_disc(0.5) within\n",
    "GROUP (ORDER BY array_length(regexp_split_to_array({TABLE}.raw_content, '\\s'), 1))\n",
    "FROM {TABLE};\n",
    "\"\"\", CONNECTION)"
   ]
  },
  {
   "cell_type": "markdown",
   "metadata": {},
   "source": [
    "#### Top 10 articles with most comments"
   ]
  },
  {
   "cell_type": "code",
   "execution_count": null,
   "metadata": {},
   "outputs": [],
   "source": [
    "with pd.option_context('display.max_colwidth', None):\n",
    "    display(pd.read_sql(f\"\"\"\n",
    "    SELECT article_id, count(comment_id)\n",
    "    FROM {TABLE}\n",
    "    WHERE parent_id IS NULL\n",
    "    GROUP BY article_id\n",
    "    ORDER BY count DESC\n",
    "    LIMIT 10\n",
    "    \"\"\", CONNECTION))"
   ]
  },
  {
   "cell_type": "markdown",
   "metadata": {},
   "source": [
    "#### Number of Comments with no answer"
   ]
  },
  {
   "cell_type": "code",
   "execution_count": null,
   "metadata": {},
   "outputs": [],
   "source": [
    "unanswered = pd.read_sql(f\"\"\"\n",
    "SELECT count(*) FROM {TABLE} AS parents\n",
    "LEFT JOIN {TABLE} AS answers ON parents.comment_id = answers.parent_id\n",
    "WHERE answers.parent_id IS NULL;\n",
    "\"\"\", CONNECTION)\n",
    "unanswered"
   ]
  },
  {
   "cell_type": "code",
   "execution_count": null,
   "metadata": {},
   "outputs": [],
   "source": [
    "unanswered / total_no_comments"
   ]
  },
  {
   "cell_type": "markdown",
   "metadata": {},
   "source": [
    "#### Number of Top-Level Comments with no answers "
   ]
  },
  {
   "cell_type": "code",
   "execution_count": null,
   "metadata": {},
   "outputs": [],
   "source": [
    "unanswered_top_level = pd.read_sql(f\"\"\"\n",
    "SELECT count(*) FROM {TABLE} AS parents\n",
    "LEFT JOIN {TABLE} AS answers ON parents.comment_id = answers.parent_id\n",
    "WHERE answers.parent_id IS NULL\n",
    "AND parents.parent_id IS NULL;\n",
    "\"\"\", CONNECTION)"
   ]
  },
  {
   "cell_type": "code",
   "execution_count": null,
   "metadata": {},
   "outputs": [],
   "source": [
    "unanswered_top_level / total_no_comments"
   ]
  },
  {
   "cell_type": "code",
   "execution_count": null,
   "metadata": {},
   "outputs": [],
   "source": [
    "1 - unanswered_top_level / total_no_comments"
   ]
  },
  {
   "cell_type": "markdown",
   "metadata": {},
   "source": [
    "#### Published but not visible comments\n",
    "Comments where the published field is `true` but visible is `false`."
   ]
  },
  {
   "cell_type": "code",
   "execution_count": null,
   "metadata": {},
   "outputs": [],
   "source": [
    "published = pd.read_sql(f\"\"\"\n",
    "SELECT count(*) FROM {TABLE} WHERE published=true AND visible=false\n",
    "\"\"\", CONNECTION)\n",
    "published"
   ]
  },
  {
   "cell_type": "markdown",
   "metadata": {},
   "source": [
    "#### Published and visible comments\n",
    "Comments where the published field is `true` and visible is `true`."
   ]
  },
  {
   "cell_type": "code",
   "execution_count": null,
   "metadata": {},
   "outputs": [],
   "source": [
    "visible = pd.read_sql(f\"\"\"\n",
    "SELECT count(*) FROM {TABLE} WHERE published=true AND visible=true\n",
    "\"\"\", CONNECTION)\n",
    "visible"
   ]
  },
  {
   "cell_type": "markdown",
   "metadata": {},
   "source": [
    "Percent of published and visible comments of all comments"
   ]
  },
  {
   "cell_type": "code",
   "execution_count": null,
   "metadata": {},
   "outputs": [],
   "source": [
    "(visible / total_no_comments) * 100"
   ]
  },
  {
   "cell_type": "code",
   "execution_count": null,
   "metadata": {},
   "outputs": [],
   "source": [
    "comments_per_timespan = pd.read_sql(f\"\"\"\n",
    "SELECT\n",
    "    date_trunc('day', created)::date date,\n",
    "    count(*) total,\n",
    "    sum(CASE WHEN published THEN 1 ELSE 0 END) published,\n",
    "    sum(CASE WHEN visible THEN 1 ELSE 0 END) visible\n",
    "FROM {TABLE} t\n",
    "GROUP BY date\n",
    "ORDER BY date ASC\n",
    "\"\"\", CONNECTION)\n",
    "\n",
    "comments_per_timespan"
   ]
  },
  {
   "cell_type": "code",
   "execution_count": null,
   "metadata": {},
   "outputs": [],
   "source": [
    "comments_per_timespan.describe()"
   ]
  },
  {
   "cell_type": "code",
   "execution_count": null,
   "metadata": {},
   "outputs": [],
   "source": [
    "import matplotlib.dates as mdates\n",
    "\n",
    "# add date ordinal because matplotlib cannot deal with dates\n",
    "comments_per_timespan['date_ordinal'] = comments_per_timespan['date'].map(lambda date: date.toordinal())\n",
    "\n",
    "ax = sns.regplot(\n",
    "    data=comments_per_timespan,\n",
    "    x='date_ordinal',\n",
    "    y='total',\n",
    "    ci=None,\n",
    "    marker='+',\n",
    "    scatter_kws={\"color\": \"silver\"}\n",
    ")\n",
    "ax.set_xlim(comments_per_timespan['date_ordinal'].min() - 1, comments_per_timespan['date_ordinal'].max() + 1)\n",
    "ax.set_ylim(4000, 18000)\n",
    "ax.set_xlabel('Date')\n",
    "ax.set_ylabel('Number of Comments')\n",
    "x_ticks = comments_per_timespan.iloc[::(len(comments_per_timespan)//6), :]['date_ordinal']\n",
    "ax.set_xticks(x_ticks)\n",
    "labels = [date.fromordinal(int(item)).strftime(\"%y-%m-%d\") for item in ax.get_xticks()]\n",
    "ax.set_xticklabels(labels, ha='left')\n",
    "ax.set_yticks(list(range(4000,18001,2000)))\n",
    "ax.set_yticklabels(list(range(4000,18001,2000)));\n",
    "\n",
    "# Save plot with siunitx number formatting\n",
    "#ax.set_yticklabels(map(lambda l: f'\\\\num{{{l}}}', list(range(4000,18001,2000))))\n",
    "#plt.savefig('figures/daily-comments-regression.pgf')"
   ]
  },
  {
   "cell_type": "markdown",
   "metadata": {},
   "source": [
    "### Departments (Ressorts)\n",
    "\n",
    "#### Comments per Department\n",
    "\n",
    "Using the original department column (no `department_mapping` join)"
   ]
  },
  {
   "cell_type": "code",
   "execution_count": null,
   "metadata": {},
   "outputs": [],
   "source": [
    "with pd.option_context('display.max_rows', None):\n",
    "    display(pd.read_sql(f\"\"\"\n",
    "        SELECT department,\n",
    "               count(department)\n",
    "        FROM {TABLE}\n",
    "        GROUP BY department\n",
    "        ORDER BY count DESC\"\"\", CONNECTION))"
   ]
  },
  {
   "cell_type": "markdown",
   "metadata": {},
   "source": [
    "With `department_mapping` join:"
   ]
  },
  {
   "cell_type": "code",
   "execution_count": null,
   "metadata": {},
   "outputs": [],
   "source": [
    "departments = pd.read_sql(f'''\n",
    "    SELECT\n",
    "        b.target as department,\n",
    "        count(a.department) comment_count\n",
    "    FROM {TABLE} a\n",
    "    INNER JOIN department_mapping b\n",
    "    ON a.department = b.source\n",
    "    GROUP BY b.target\n",
    "    ORDER BY comment_count asc\n",
    "''', CONNECTION)"
   ]
  },
  {
   "cell_type": "code",
   "execution_count": null,
   "metadata": {},
   "outputs": [],
   "source": [
    "fig, ax = plt.subplots()\n",
    "bars = ax.barh(y=departments.department, width=departments.comment_count, height=0.75)\n",
    "ax.set_xscale(\"log\")\n",
    "ax.set_xlim(1000, 10000000)\n",
    "ax.set_xlabel(\"Number of Comments\", labelpad=12)\n",
    "ax.set_ylabel(\"Department\")\n",
    "ax.grid(False)\n",
    "ax.spines['top'].set_visible(False)\n",
    "ax.spines['right'].set_visible(False)\n",
    "ax.spines['bottom'].set_visible(False)\n",
    "ax.spines['left'].set_visible(False)\n",
    "ax.xaxis.tick_top()\n",
    "ax.xaxis.set_label_position('top') \n",
    "plt.minorticks_off()\n",
    "#ax.get_xaxis().set_ticks([])\n",
    "#formatter = ScalarFormatter()\n",
    "#formatter.set_scientific(False)\n",
    "#ax.xaxis.set_major_formatter(formatter)\n",
    "#ax.set_xticks([0, 1000, 10000, 100000])\n",
    "\n",
    "# add numbers to bars\n",
    "import locale\n",
    "locale.setlocale(locale.LC_ALL, '')\n",
    "for bar in bars:\n",
    "    width = bar.get_width()\n",
    "    text = f'{width:,}'\n",
    "    label_y_pos = bar.get_y() + bar.get_height() / 2\n",
    "    ax.text(\n",
    "        width * 1.05,\n",
    "        label_y_pos,\n",
    "        s=text,\n",
    "        va='center',\n",
    "        ha='left',\n",
    "        color='dimgray',\n",
    "        size=10,\n",
    "        fontfamily='sans-serif'\n",
    "    )\n",
    "\n",
    "fig.tight_layout()\n",
    "# plt.savefig('figures/department_comment_barchart.pgf')"
   ]
  },
  {
   "cell_type": "code",
   "execution_count": null,
   "metadata": {},
   "outputs": [],
   "source": [
    "#sns.barplot(x=\"comment_count\", y=\"department\", data=departments)"
   ]
  },
  {
   "cell_type": "markdown",
   "metadata": {},
   "source": [
    "## User Stats"
   ]
  },
  {
   "cell_type": "code",
   "execution_count": null,
   "metadata": {},
   "outputs": [],
   "source": [
    "users = pd.read_sql('SELECT * FROM user_stats', CONNECTION)\n",
    "users.describe()"
   ]
  },
  {
   "cell_type": "code",
   "execution_count": null,
   "metadata": {},
   "outputs": [],
   "source": [
    "ax = sns.scatterplot(data=users, x=\"count_total\", y=\"count_replies_to_others\")\n",
    "ax.set_xscale(\"log\")\n",
    "ax.set_yscale(\"log\")\n",
    "ax.set_ylim((1, 100000))\n",
    "ax.set_xlim((1, 100000))\n",
    "\n",
    "#ax.set_yticklabels(map(lambda l: f'\\\\num{{{l}}}', ax.get_yticks()))"
   ]
  },
  {
   "cell_type": "code",
   "execution_count": null,
   "metadata": {},
   "outputs": [],
   "source": [
    "ax = sns.scatterplot(data=users, x=\"count_not_visible\", y=\"count_top_level\")\n",
    "\n"
   ]
  },
  {
   "cell_type": "code",
   "execution_count": null,
   "metadata": {},
   "outputs": [],
   "source": [
    "ax = sns.scatterplot(data=users, x=\"avg_comment_length\", y=\"count_total\")\n",
    "#ax.set_yscale(\"log\")\n",
    "#ax.set_ylim((1, 100000))"
   ]
  },
  {
   "cell_type": "markdown",
   "metadata": {},
   "source": [
    "## Answerer Graph Statistics"
   ]
  },
  {
   "cell_type": "code",
   "execution_count": null,
   "metadata": {},
   "outputs": [],
   "source": [
    "answ_graph = pd.read_sql(f\"\"\"\n",
    "    SELECT *\n",
    "    FROM answerer_graph\n",
    "    \"\"\", CONNECTION)"
   ]
  },
  {
   "cell_type": "code",
   "execution_count": null,
   "metadata": {},
   "outputs": [],
   "source": [
    "answ_graph.describe()"
   ]
  },
  {
   "cell_type": "code",
   "execution_count": null,
   "metadata": {},
   "outputs": [],
   "source": [
    "quantiles = np.arange(0.0,1.000001,0.01)\n",
    "percentiles = answ_graph.quantile(q=quantiles).drop(columns=['poster', 'answerer'])\n",
    "\n",
    "percentiles"
   ]
  },
  {
   "cell_type": "code",
   "execution_count": null,
   "metadata": {},
   "outputs": [],
   "source": [
    "ax = sns.scatterplot(data=percentiles)\n",
    "ax.set_xticks(np.arange(0.0,1.5,0.5))\n",
    "ax.set_yticks([0, 1, 2,3,4, 5, 10, 50, 100, 1000, 2500])\n",
    "ax.set_xscale(\"log\")\n",
    "ax.set_yscale(\"log\")"
   ]
  },
  {
   "cell_type": "code",
   "execution_count": null,
   "metadata": {},
   "outputs": [],
   "source": []
  }
 ],
 "metadata": {
  "kernelspec": {
   "display_name": "Python 3",
   "language": "python",
   "name": "python3"
  },
  "language_info": {
   "codemirror_mode": {
    "name": "ipython",
    "version": 3
   },
   "file_extension": ".py",
   "mimetype": "text/x-python",
   "name": "python",
   "nbconvert_exporter": "python",
   "pygments_lexer": "ipython3",
   "version": "3.9.1"
  }
 },
 "nbformat": 4,
 "nbformat_minor": 4
}
